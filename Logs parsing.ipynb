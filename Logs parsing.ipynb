{
 "cells": [
  {
   "cell_type": "code",
   "execution_count": 2,
   "metadata": {},
   "outputs": [],
   "source": [
    "from collections import Counter, defaultdict\n",
    "import re"
   ]
  },
  {
   "cell_type": "code",
   "execution_count": 4,
   "metadata": {},
   "outputs": [],
   "source": [
    "def get_data(name='access.log.txt'):\n",
    "    log_file = open(name, 'r')\n",
    "\n",
    "    parts = [\n",
    "        r'(?P<host>\\S+)',                   # host %h\n",
    "        r'\\S+',                             # indent %l (unused)\n",
    "        r'(?P<user>\\S+)',                   # user %u\n",
    "        r'\\[(?P<time>.+)\\]',                # time %t\n",
    "        r'\"(?P<request>.*)\"',               # request \"%r\"\n",
    "        r'(?P<status>[0-9]+)',              # status %>s\n",
    "        r'(?P<size>\\S+)',                   # size %b (careful, can be '-')\n",
    "        r'\"(?P<referrer>.*)\"',              # referrer \"%{Referer}i\"\n",
    "        r'\"\\S+',                            # mozilla\n",
    "        r'\\((?P<OS>.*?)\\)',                 # OS\n",
    "        r'(?P<agent>.*)\"',                  # user agent \"%{User-agent}i\"\n",
    "    ]\n",
    "\n",
    "    pattern = re.compile(r'\\s+'.join(parts)+r'\\s*\\Z')\n",
    "    log_data = []\n",
    "    anomalies = []\n",
    "    for line in log_file:\n",
    "        m = pattern.match(line)\n",
    "        if m:\n",
    "            log_data.append(m.groupdict())\n",
    "        else:\n",
    "            anomalies.append(line.rstrip())\n",
    "\n",
    "    return log_data, anomalies"
   ]
  },
  {
   "cell_type": "code",
   "execution_count": 5,
   "metadata": {},
   "outputs": [],
   "source": [
    "log_data, anomalies = get_data()"
   ]
  },
  {
   "cell_type": "code",
   "execution_count": 6,
   "metadata": {},
   "outputs": [
    {
     "data": {
      "text/plain": [
       "(50622, 29)"
      ]
     },
     "execution_count": 6,
     "metadata": {},
     "output_type": "execute_result"
    }
   ],
   "source": [
    "len(log_data), len(anomalies)"
   ]
  },
  {
   "cell_type": "code",
   "execution_count": 7,
   "metadata": {},
   "outputs": [
    {
     "data": {
      "text/plain": [
       "29"
      ]
     },
     "execution_count": 7,
     "metadata": {},
     "output_type": "execute_result"
    }
   ],
   "source": [
    "def handle_anomalies(anomalies):\n",
    "    parts = [\n",
    "        r'(?P<host>\\S+)',  # host %h\n",
    "        r'\\S+',  # indent %l (unused)\n",
    "        r'(?P<user>\\S+)',  # user %u\n",
    "        r'\\[(?P<time>.+)\\]',  # time %t\n",
    "        r'\"(?P<request>.*)\"',  # request \"%r\"\n",
    "        r'(?P<status>[0-9]+)',  # status %>s\n",
    "        r'(?P<size>\\S+)',  # size %b (careful, can be '-')\n",
    "        r'\"(?P<referrer>.*)\"',  # referrer \"%{Referer}i\"\n",
    "        r'\"(?P<agent>.*)\"',  # user agent \"%{User-agent}i\"\n",
    "    ]\n",
    "    pattern = re.compile(r'\\s+'.join(parts) + r'\\s*\\Z')\n",
    "\n",
    "    result = []\n",
    "    for line in anomalies:\n",
    "        m = pattern.match(line)\n",
    "        if m:\n",
    "            result.append(m.groupdict())\n",
    "    return result\n",
    "\n",
    "handled_anomalies = handle_anomalies(anomalies)\n",
    "len(handled_anomalies)"
   ]
  },
  {
   "cell_type": "code",
   "execution_count": 8,
   "metadata": {},
   "outputs": [
    {
     "name": "stdout",
     "output_type": "stream",
     "text": [
      "Number of unique ip:  35 \n",
      "\n",
      "Unique IP {'72.21.217.130', '119.205.214.218', '77.47.170.44', '109.207.199.67', '216.165.248.218', '188.163.67.155', '66.102.9.56', '188.163.67.14', '54.198.165.221', '5.101.40.8', '60.191.38.77', '66.118.142.167', '46.219.213.75', '88.135.251.193', '211.234.106.243', '194.183.170.131', '::1', '77.122.225.17', '218.53.106.7', '203.158.202.26', '193.201.105.15', '72.21.217.72', '176.116.89.6', '37.249.7.208', '188.163.8.74', '188.163.67.153', '188.163.67.102', '172.104.108.109', '195.12.59.18', '66.102.9.54', '188.163.67.104', '5.188.203.125', '51.218.218.149', '89.248.172.76', '107.170.255.200'} \n",
      "\n",
      "Bad requests:  [{'host': '172.104.108.109', 'user': '-', 'time': '22/Feb/2018:10:52:12 +0000', 'request': 'GET / HTTP/1.1', 'status': '200', 'size': '1588', 'referrer': '-', 'agent': 'Mozilla/5.0'}, {'host': '5.101.40.8', 'user': '-', 'time': '22/Feb/2018:11:14:25 +0000', 'request': '\\\\x03', 'status': '400', 'size': '0', 'referrer': '-', 'agent': '-'}, {'host': '54.198.165.221', 'user': '-', 'time': '22/Feb/2018:14:29:14 +0000', 'request': 'HEAD / HTTP/1.1', 'status': '200', 'size': '296', 'referrer': '-', 'agent': 'Cloud mapping experiment. Contact research@pdrlabs.net'}, {'host': '89.248.172.76', 'user': '-', 'time': '22/Feb/2018:14:41:22 +0000', 'request': 'GET / HTTP/1.1', 'status': '200', 'size': '4503', 'referrer': '-', 'agent': '-'}, {'host': '66.118.142.167', 'user': '-', 'time': '22/Feb/2018:16:46:43 +0000', 'request': 'HEAD /scripts/setup.php HTTP/1.0', 'status': '404', 'size': '159', 'referrer': '-', 'agent': '-'}, {'host': '51.218.218.149', 'user': '-', 'time': '22/Feb/2018:17:36:57 +0000', 'request': 'GET /phpMyAdmin/scripts/setup.php HTTP/1.1', 'status': '404', 'size': '466', 'referrer': '-', 'agent': '-'}, {'host': '72.21.217.130', 'user': '-', 'time': '22/Feb/2018:22:30:54 +0000', 'request': 'GET /robots.txt HTTP/1.1', 'status': '404', 'size': '504', 'referrer': '-', 'agent': 'Mozilla/5.0 (compatible;contxbot/1.0)'}, {'host': '72.21.217.72', 'user': '-', 'time': '22/Feb/2018:23:26:56 +0000', 'request': 'GET /robots.txt HTTP/1.1', 'status': '404', 'size': '504', 'referrer': '-', 'agent': 'Mozilla/5.0 (compatible;contxbot/1.0)'}, {'host': '107.170.255.200', 'user': '-', 'time': '22/Feb/2018:23:32:21 +0000', 'request': 'GET / HTTP/1.1', 'status': '200', 'size': '1569', 'referrer': '-', 'agent': 'Mozilla/5.0 zgrab/0.x'}] \n",
      "\n"
     ]
    }
   ],
   "source": [
    "def unique(log_data, anomalies):\n",
    "    set_of_hosts = set()\n",
    "    unique_data = []\n",
    "    unique_bad = []\n",
    "\n",
    "    for line in log_data:\n",
    "        if line['host'] not in set_of_hosts:\n",
    "            unique_data.append(line)\n",
    "            set_of_hosts.add(line['host'])\n",
    "\n",
    "    for line in anomalies:\n",
    "        if line['host'] not in set_of_hosts:\n",
    "            unique_bad.append(line)\n",
    "            set_of_hosts.add(line['host'])\n",
    "\n",
    "    return unique_data, unique_bad, set_of_hosts\n",
    "\n",
    "unique_host, bad_requests, count_unique = unique(log_data, handled_anomalies)\n",
    "print(\"Number of unique ip: \", len(count_unique), \"\\n\")\n",
    "print(\"Unique IP\", count_unique, \"\\n\")\n",
    "print(\"Bad requests: \", bad_requests, \"\\n\")"
   ]
  },
  {
   "cell_type": "code",
   "execution_count": 9,
   "metadata": {},
   "outputs": [
    {
     "name": "stdout",
     "output_type": "stream",
     "text": [
      "Counter({'Windows NT 6.1': 28081, 'Windows NT 10.0; Win64; x64': 19895, 'Windows NT 6.1; Win64; x64': 1646, 'Windows NT 6.1; WOW64': 438, 'Windows NT 6.1; WOW64; Trident/7.0; rv:11.0': 236, 'Ubuntu': 144, 'iPhone; CPU iPhone OS 11_2_5 like Mac OS X': 79, 'X11; Linux x86_64': 73, 'Macintosh; Intel Mac OS X 10_12_3': 27, 'Windows NT 5.1; rv:9.0.1': 2, 'Macintosh; Intel Mac OS X 10.11; rv:47.0': 1})\n"
     ]
    }
   ],
   "source": [
    "counter = defaultdict(Counter)\n",
    "for line in log_data:\n",
    "    for key, value in line.items():\n",
    "        counter[key].update([value])\n",
    "\n",
    "print(counter['OS'])"
   ]
  },
  {
   "cell_type": "code",
   "execution_count": 10,
   "metadata": {},
   "outputs": [
    {
     "name": "stdout",
     "output_type": "stream",
     "text": [
      "Counter({'AppleWebKit/537.36 (KHTML, like Gecko) Chrome/64.0.3282.167 Safari/537.36': 49491, 'AppleWebKit/537.36 (KHTML, like Gecko) Chrome/63.0.3239.132 Safari/537.36': 562, 'like Gecko': 236, '(internal dummy connection)': 144, 'AppleWebKit/604.1.34 (KHTML, like Gecko) CriOS/64.0.3282.112 Mobile/15D60 Safari/604.1': 79, 'AppleWebKit/537.36 (KHTML, like Gecko) Chrome/60.0.3112.113 Safari/537.36': 71, 'AppleWebKit/537.36 (KHTML, like Gecko) Chrome/56.0.2924.87 Safari/537.36': 27, 'AppleWebKit/537.36 (KHTML, like Gecko) Chrome/64.0.3282.168 Safari/537.36': 7, 'AppleWebKit/537.36 (KHTML, like Gecko) Chrome/49.0.2623.75 Safari/537.36 Google Favicon': 2, 'Gecko/20100101 Firefox/9.0.1': 2, 'Gecko/20100101 Firefox/47.0': 1})\n"
     ]
    }
   ],
   "source": [
    "print(counter['agent'])"
   ]
  },
  {
   "cell_type": "code",
   "execution_count": 11,
   "metadata": {},
   "outputs": [
    {
     "name": "stdout",
     "output_type": "stream",
     "text": [
      "Counter({'13': 12067, '09': 11009, '14': 8525, '20': 7172, '12': 6036, '21': 2330, '10': 988, '08': 918, '15': 455, '17': 269, '16': 231, '18': 166, '07': 131, '11': 97, '23': 93, '22': 79, '06': 18, '19': 16, '05': 9, '02': 7, '00': 4, '03': 2})\n"
     ]
    }
   ],
   "source": [
    "hours = Counter()\n",
    "for time_, count in counter['time'].items():\n",
    "        hours[time_[12:14]] += count\n",
    "        \n",
    "print(hours)"
   ]
  },
  {
   "cell_type": "code",
   "execution_count": 20,
   "metadata": {},
   "outputs": [
    {
     "name": "stdout",
     "output_type": "stream",
     "text": [
      "Counter({'UA': 50430, 'KR': 18, 'TH': 9, 'PL': 8, 'FR': 7, 'US': 4, 'CN': 1, 'RU': 1})\n"
     ]
    }
   ],
   "source": [
    "countries = Counter()\n",
    "import requests\n",
    "for host, count in counter['host'].items():\n",
    "    if host != '::1':\n",
    "        a = requests.get(\"https://ipinfo.io/\" + host + \"/country\")\n",
    "        if a is not None:\n",
    "            countries[a.text.replace(\"\\n\",\"\")] += count\n",
    "print(countries)"
   ]
  },
  {
   "cell_type": "code",
   "execution_count": null,
   "metadata": {},
   "outputs": [],
   "source": []
  },
  {
   "cell_type": "code",
   "execution_count": null,
   "metadata": {},
   "outputs": [],
   "source": []
  }
 ],
 "metadata": {
  "kernelspec": {
   "display_name": "Python 3",
   "language": "python",
   "name": "python3"
  },
  "language_info": {
   "codemirror_mode": {
    "name": "ipython",
    "version": 3
   },
   "file_extension": ".py",
   "mimetype": "text/x-python",
   "name": "python",
   "nbconvert_exporter": "python",
   "pygments_lexer": "ipython3",
   "version": "3.6.4"
  }
 },
 "nbformat": 4,
 "nbformat_minor": 2
}
